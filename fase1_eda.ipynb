{
 "cells": [
  {
   "cell_type": "code",
   "execution_count": null,
   "metadata": {},
   "outputs": [],
   "source": [
    "import pandas as pd\n",
    "import numpy as np\n",
    "\n"
   ]
  },
  {
   "cell_type": "code",
   "execution_count": 61,
   "metadata": {},
   "outputs": [
    {
     "data": {
      "text/plain": [
       "Index(['Age', 'Attrition', 'BusinessTravel', 'DailyRate', 'Department',\n",
       "       'DistanceFromHome', 'Education', 'EducationField', 'employeecount',\n",
       "       'employeenumber', 'EnvironmentSatisfaction', 'Gender', 'HourlyRate',\n",
       "       'JobInvolvement', 'JobLevel', 'JobRole', 'JobSatisfaction',\n",
       "       'MaritalStatus', 'MonthlyIncome', 'MonthlyRate', 'NUMCOMPANIESWORKED',\n",
       "       'Over18', 'OverTime', 'PercentSalaryHike', 'PerformanceRating',\n",
       "       'RelationshipSatisfaction', 'StandardHours', 'StockOptionLevel',\n",
       "       'TOTALWORKINGYEARS', 'TrainingTimesLastYear', 'WORKLIFEBALANCE',\n",
       "       'YearsAtCompany', 'YearsInCurrentRole', 'YearsSinceLastPromotion',\n",
       "       'YEARSWITHCURRMANAGER', 'SameAsMonthlyIncome', 'DateBirth', 'Salary',\n",
       "       'RoleDepartament', 'NUMBERCHILDREN', 'RemoteWork'],\n",
       "      dtype='object')"
      ]
     },
     "execution_count": 61,
     "metadata": {},
     "output_type": "execute_result"
    }
   ],
   "source": [
    "df_data =pd.read_csv(\"DATA.CSV\",index_col=0)\n",
    "df_data.columns\n"
   ]
  },
  {
   "cell_type": "code",
   "execution_count": null,
   "metadata": {},
   "outputs": [],
   "source": [
    "edad= list(df_data.loc[:,\"Age\"])\n",
    " #vemos edades escritas con letras\n",
    "min(edad)#La edad minima es 18 y la maxima es 60\n",
    "lista_num=[]\n",
    "lista_string=[]\n",
    "for x in edad:\n",
    "    if len(x)>2:\n",
    "        lista_string.append(x)\n",
    "    else:\n",
    "        lista_num.append(x)\n",
    "print(len(lista_string),\"string\")\n",
    "print(len(lista_num),\"numeros\")\n",
    "print(max(lista_num))\n",
    "print(min(lista_num))\n",
    "lista_string\n"
   ]
  },
  {
   "cell_type": "code",
   "execution_count": null,
   "metadata": {},
   "outputs": [],
   "source": [
    "abandono= list(df_data.loc[:,\"Attrition\"])\n",
    "abandono #No significa que SI ERES EMPLEADO, estas todavia trabajando como un currante\n",
    "        #YES significa que ya NO eres un empleado de la empresa, te has pirado\n",
    "lstabandono_yes=[]\n",
    "lstabandono_no=[]\n",
    "lstabandono=[]\n",
    "for x in abandono:\n",
    "    if x == \"Yes\":\n",
    "        lstabandono_yes.append(x)\n",
    "    elif x==\"No\":\n",
    "        lstabandono_no.append(x)\n",
    "    else:\n",
    "        lstabandono.append(x)\n",
    "        \n",
    "print(f\"lista de abandono de la empresa {lstabandono_yes}\")\n",
    "print(f\"lista de NO abandono de la empresa {lstabandono_no}\")\n",
    "print(f\"lista de a saber que de la empresa {lstabandono}\")\n",
    "print(len(lstabandono_yes),\"abandonos\")\n",
    "print(len(lstabandono_no),\"empleados\")\n",
    "\n",
    "\n"
   ]
  },
  {
   "cell_type": "code",
   "execution_count": null,
   "metadata": {},
   "outputs": [],
   "source": []
  },
  {
   "cell_type": "code",
   "execution_count": null,
   "metadata": {},
   "outputs": [],
   "source": [
    "frecuencia_viajes = list(df_data.loc[:,\"BusinessTravel\"])\n",
    "#frecuencia_viajes\n",
    "frecuencia_rarely=frecuencia_viajes.count('travel_rarely') #586\n",
    "travel_frequently = frecuencia_viajes.count('travel_frequently') #165\n",
    "travel_non_travel = frecuencia_viajes.count('non-travel') #91\n",
    "df_null = df_data['BusinessTravel']\n",
    "df_null.isnull().sum() #772 son nulos\n",
    "\n",
    "#df_null.loc[[0].isna().sum().sum()]\n"
   ]
  },
  {
   "cell_type": "code",
   "execution_count": 71,
   "metadata": {},
   "outputs": [
    {
     "name": "stdout",
     "output_type": "stream",
     "text": [
      "Los valores nan son : 124\n"
     ]
    }
   ],
   "source": [
    "DailyRate = list(df_data.loc[:,\"DailyRate\"])\n",
    "lista_num=[]\n",
    "for x in DailyRate:\n",
    "   if x.isnumeric:\n",
    "      lista_num.append(x)\n",
    "lista_num\n",
    "print(f\"Los valores nan son : {lista_num.count('nan$')}\") # valores nan con $ son 124\n",
    "\n"
   ]
  },
  {
   "cell_type": "code",
   "execution_count": null,
   "metadata": {},
   "outputs": [],
   "source": []
  }
 ],
 "metadata": {
  "kernelspec": {
   "display_name": "base",
   "language": "python",
   "name": "python3"
  },
  "language_info": {
   "codemirror_mode": {
    "name": "ipython",
    "version": 3
   },
   "file_extension": ".py",
   "mimetype": "text/x-python",
   "name": "python",
   "nbconvert_exporter": "python",
   "pygments_lexer": "ipython3",
   "version": "3.9.7"
  }
 },
 "nbformat": 4,
 "nbformat_minor": 2
}
