{
 "cells": [
  {
   "cell_type": "code",
   "execution_count": 1,
   "metadata": {},
   "outputs": [],
   "source": [
    "# Importar librerías para manipulación y análisis de datos\n",
    "# -----------------------------------------------------------------------\n",
    "import pandas as pd\n",
    "from pandas import DataFrame\n",
    "import numpy as np\n",
    "pd.set_option('display.max_columns', None)  # Establece una opción de Pandas para mostrar todas las columnas de un DataFrame.\n",
    "\n",
    "# Imputación de nulos usando métodos avanzados estadísticos\n",
    "# -----------------------------------------------------------------------\n",
    "from sklearn.impute import SimpleImputer\n",
    "from sklearn.experimental import enable_iterative_imputer\n",
    "from sklearn.impute import IterativeImputer\n",
    "from sklearn.impute import KNNImputer\n",
    "\n",
    "# Librerías de visualización\n",
    "# -----------------------------------------------------------------------\n",
    "import seaborn as sns\n",
    "import matplotlib.pyplot as plt\n",
    "\n",
    "# establece el estilo del fondo de las gráficas como \"whitegrid\". Las gráficas tendrán un fondo blanco con líneas de cuadrícula horizontales y verticales.\n",
    "sns.set_style(\"whitegrid\")\n",
    "\n",
    "# cambiará el esquema de colores predeterminado de Seaborn a uno más oscuro, adecuado para gráficas con fondos claros. \n",
    "sns.set_theme(style=\"dark\")\n",
    "\n",
    "# establece el estilo en Solarize_Lihgt2. \n",
    "plt.style.use('Solarize_Light2')"
   ]
  },
  {
   "cell_type": "code",
   "execution_count": 2,
   "metadata": {},
   "outputs": [
    {
     "data": {
      "text/html": [
       "<div>\n",
       "<style scoped>\n",
       "    .dataframe tbody tr th:only-of-type {\n",
       "        vertical-align: middle;\n",
       "    }\n",
       "\n",
       "    .dataframe tbody tr th {\n",
       "        vertical-align: top;\n",
       "    }\n",
       "\n",
       "    .dataframe thead th {\n",
       "        text-align: right;\n",
       "    }\n",
       "</style>\n",
       "<table border=\"1\" class=\"dataframe\">\n",
       "  <thead>\n",
       "    <tr style=\"text-align: right;\">\n",
       "      <th></th>\n",
       "      <th>0</th>\n",
       "      <th>1</th>\n",
       "    </tr>\n",
       "  </thead>\n",
       "  <tbody>\n",
       "    <tr>\n",
       "      <th>Age</th>\n",
       "      <td>51</td>\n",
       "      <td>52</td>\n",
       "    </tr>\n",
       "    <tr>\n",
       "      <th>Attrition</th>\n",
       "      <td>No</td>\n",
       "      <td>No</td>\n",
       "    </tr>\n",
       "    <tr>\n",
       "      <th>BusinessTravel</th>\n",
       "      <td>NaN</td>\n",
       "      <td>NaN</td>\n",
       "    </tr>\n",
       "    <tr>\n",
       "      <th>DailyRate</th>\n",
       "      <td>684,0$</td>\n",
       "      <td>699,0$</td>\n",
       "    </tr>\n",
       "    <tr>\n",
       "      <th>Department</th>\n",
       "      <td>NaN</td>\n",
       "      <td>NaN</td>\n",
       "    </tr>\n",
       "    <tr>\n",
       "      <th>DistanceFromHome</th>\n",
       "      <td>6</td>\n",
       "      <td>1</td>\n",
       "    </tr>\n",
       "    <tr>\n",
       "      <th>Education</th>\n",
       "      <td>3</td>\n",
       "      <td>4</td>\n",
       "    </tr>\n",
       "    <tr>\n",
       "      <th>EducationField</th>\n",
       "      <td>NaN</td>\n",
       "      <td>Life Sciences</td>\n",
       "    </tr>\n",
       "    <tr>\n",
       "      <th>employeecount</th>\n",
       "      <td>1</td>\n",
       "      <td>1</td>\n",
       "    </tr>\n",
       "    <tr>\n",
       "      <th>employeenumber</th>\n",
       "      <td>162,0</td>\n",
       "      <td>259,0</td>\n",
       "    </tr>\n",
       "    <tr>\n",
       "      <th>EnvironmentSatisfaction</th>\n",
       "      <td>1</td>\n",
       "      <td>3</td>\n",
       "    </tr>\n",
       "    <tr>\n",
       "      <th>Gender</th>\n",
       "      <td>0</td>\n",
       "      <td>0</td>\n",
       "    </tr>\n",
       "    <tr>\n",
       "      <th>HourlyRate</th>\n",
       "      <td>51</td>\n",
       "      <td>65</td>\n",
       "    </tr>\n",
       "    <tr>\n",
       "      <th>JobInvolvement</th>\n",
       "      <td>3</td>\n",
       "      <td>2</td>\n",
       "    </tr>\n",
       "    <tr>\n",
       "      <th>JobLevel</th>\n",
       "      <td>5</td>\n",
       "      <td>5</td>\n",
       "    </tr>\n",
       "    <tr>\n",
       "      <th>JobRole</th>\n",
       "      <td>resEArch DIREcToR</td>\n",
       "      <td>ManAGeR</td>\n",
       "    </tr>\n",
       "    <tr>\n",
       "      <th>JobSatisfaction</th>\n",
       "      <td>3</td>\n",
       "      <td>3</td>\n",
       "    </tr>\n",
       "    <tr>\n",
       "      <th>MaritalStatus</th>\n",
       "      <td>NaN</td>\n",
       "      <td>NaN</td>\n",
       "    </tr>\n",
       "    <tr>\n",
       "      <th>MonthlyIncome</th>\n",
       "      <td>19537,0</td>\n",
       "      <td>19999,0</td>\n",
       "    </tr>\n",
       "    <tr>\n",
       "      <th>MonthlyRate</th>\n",
       "      <td>6462</td>\n",
       "      <td>5678</td>\n",
       "    </tr>\n",
       "    <tr>\n",
       "      <th>NUMCOMPANIESWORKED</th>\n",
       "      <td>7</td>\n",
       "      <td>0</td>\n",
       "    </tr>\n",
       "    <tr>\n",
       "      <th>Over18</th>\n",
       "      <td>Y</td>\n",
       "      <td>NaN</td>\n",
       "    </tr>\n",
       "    <tr>\n",
       "      <th>OverTime</th>\n",
       "      <td>No</td>\n",
       "      <td>NaN</td>\n",
       "    </tr>\n",
       "    <tr>\n",
       "      <th>PercentSalaryHike</th>\n",
       "      <td>13</td>\n",
       "      <td>14</td>\n",
       "    </tr>\n",
       "    <tr>\n",
       "      <th>PerformanceRating</th>\n",
       "      <td>3,0</td>\n",
       "      <td>3,0</td>\n",
       "    </tr>\n",
       "    <tr>\n",
       "      <th>RelationshipSatisfaction</th>\n",
       "      <td>3</td>\n",
       "      <td>1</td>\n",
       "    </tr>\n",
       "    <tr>\n",
       "      <th>StandardHours</th>\n",
       "      <td>NaN</td>\n",
       "      <td>NaN</td>\n",
       "    </tr>\n",
       "    <tr>\n",
       "      <th>StockOptionLevel</th>\n",
       "      <td>0</td>\n",
       "      <td>1</td>\n",
       "    </tr>\n",
       "    <tr>\n",
       "      <th>TOTALWORKINGYEARS</th>\n",
       "      <td>NaN</td>\n",
       "      <td>34,0</td>\n",
       "    </tr>\n",
       "    <tr>\n",
       "      <th>TrainingTimesLastYear</th>\n",
       "      <td>5</td>\n",
       "      <td>5</td>\n",
       "    </tr>\n",
       "    <tr>\n",
       "      <th>WORKLIFEBALANCE</th>\n",
       "      <td>3,0</td>\n",
       "      <td>3,0</td>\n",
       "    </tr>\n",
       "    <tr>\n",
       "      <th>YearsAtCompany</th>\n",
       "      <td>20</td>\n",
       "      <td>33</td>\n",
       "    </tr>\n",
       "    <tr>\n",
       "      <th>YearsInCurrentRole</th>\n",
       "      <td>NaN</td>\n",
       "      <td>NaN</td>\n",
       "    </tr>\n",
       "    <tr>\n",
       "      <th>YearsSinceLastPromotion</th>\n",
       "      <td>15</td>\n",
       "      <td>11</td>\n",
       "    </tr>\n",
       "    <tr>\n",
       "      <th>YEARSWITHCURRMANAGER</th>\n",
       "      <td>15</td>\n",
       "      <td>9</td>\n",
       "    </tr>\n",
       "    <tr>\n",
       "      <th>SameAsMonthlyIncome</th>\n",
       "      <td>19537,0</td>\n",
       "      <td>19999,0</td>\n",
       "    </tr>\n",
       "    <tr>\n",
       "      <th>DateBirth</th>\n",
       "      <td>1972</td>\n",
       "      <td>1971</td>\n",
       "    </tr>\n",
       "    <tr>\n",
       "      <th>Salary</th>\n",
       "      <td>1000000000$</td>\n",
       "      <td>1000000000$</td>\n",
       "    </tr>\n",
       "    <tr>\n",
       "      <th>RoleDepartament</th>\n",
       "      <td>NaN</td>\n",
       "      <td>NaN</td>\n",
       "    </tr>\n",
       "    <tr>\n",
       "      <th>NUMBERCHILDREN</th>\n",
       "      <td>NaN</td>\n",
       "      <td>NaN</td>\n",
       "    </tr>\n",
       "    <tr>\n",
       "      <th>RemoteWork</th>\n",
       "      <td>Yes</td>\n",
       "      <td>1</td>\n",
       "    </tr>\n",
       "  </tbody>\n",
       "</table>\n",
       "</div>"
      ],
      "text/plain": [
       "                                            0              1\n",
       "Age                                        51             52\n",
       "Attrition                                  No             No\n",
       "BusinessTravel                            NaN            NaN\n",
       "DailyRate                              684,0$         699,0$\n",
       "Department                                NaN            NaN\n",
       "DistanceFromHome                            6              1\n",
       "Education                                   3              4\n",
       "EducationField                            NaN  Life Sciences\n",
       "employeecount                               1              1\n",
       "employeenumber                          162,0          259,0\n",
       "EnvironmentSatisfaction                     1              3\n",
       "Gender                                      0              0\n",
       "HourlyRate                                 51             65\n",
       "JobInvolvement                              3              2\n",
       "JobLevel                                    5              5\n",
       "JobRole                    resEArch DIREcToR        ManAGeR \n",
       "JobSatisfaction                             3              3\n",
       "MaritalStatus                             NaN            NaN\n",
       "MonthlyIncome                         19537,0        19999,0\n",
       "MonthlyRate                              6462           5678\n",
       "NUMCOMPANIESWORKED                          7              0\n",
       "Over18                                      Y            NaN\n",
       "OverTime                                   No            NaN\n",
       "PercentSalaryHike                          13             14\n",
       "PerformanceRating                         3,0            3,0\n",
       "RelationshipSatisfaction                    3              1\n",
       "StandardHours                             NaN            NaN\n",
       "StockOptionLevel                            0              1\n",
       "TOTALWORKINGYEARS                         NaN           34,0\n",
       "TrainingTimesLastYear                       5              5\n",
       "WORKLIFEBALANCE                           3,0            3,0\n",
       "YearsAtCompany                             20             33\n",
       "YearsInCurrentRole                        NaN            NaN\n",
       "YearsSinceLastPromotion                    15             11\n",
       "YEARSWITHCURRMANAGER                       15              9\n",
       "SameAsMonthlyIncome                   19537,0        19999,0\n",
       "DateBirth                                1972           1971\n",
       "Salary                            1000000000$    1000000000$\n",
       "RoleDepartament                           NaN            NaN\n",
       "NUMBERCHILDREN                            NaN            NaN\n",
       "RemoteWork                                Yes              1"
      ]
     },
     "execution_count": 2,
     "metadata": {},
     "output_type": "execute_result"
    }
   ],
   "source": [
    "df_data_original =pd.read_csv(\"DATA.CSV\",index_col=0)\n",
    "df_data_original.head(2).T"
   ]
  },
  {
   "cell_type": "markdown",
   "metadata": {},
   "source": [
    "# 1.Homogeneización del nombre de las columnas (en minúsculas)"
   ]
  },
  {
   "cell_type": "code",
   "execution_count": 4,
   "metadata": {},
   "outputs": [],
   "source": [
    "df_data_copy= df_data_original.copy()"
   ]
  },
  {
   "cell_type": "code",
   "execution_count": 115,
   "metadata": {},
   "outputs": [
    {
     "data": {
      "text/html": [
       "<div>\n",
       "<style scoped>\n",
       "    .dataframe tbody tr th:only-of-type {\n",
       "        vertical-align: middle;\n",
       "    }\n",
       "\n",
       "    .dataframe tbody tr th {\n",
       "        vertical-align: top;\n",
       "    }\n",
       "\n",
       "    .dataframe thead th {\n",
       "        text-align: right;\n",
       "    }\n",
       "</style>\n",
       "<table border=\"1\" class=\"dataframe\">\n",
       "  <thead>\n",
       "    <tr style=\"text-align: right;\">\n",
       "      <th></th>\n",
       "      <th>age</th>\n",
       "      <th>attrition</th>\n",
       "      <th>businesstravel</th>\n",
       "      <th>dailyrate</th>\n",
       "      <th>department</th>\n",
       "      <th>distancefromhome</th>\n",
       "      <th>education</th>\n",
       "      <th>education_cat</th>\n",
       "      <th>educationfield</th>\n",
       "      <th>employeecount</th>\n",
       "      <th>employeenumber</th>\n",
       "      <th>environmentsatisfaction_cat</th>\n",
       "      <th>gender</th>\n",
       "      <th>gender_cat</th>\n",
       "      <th>jobinvolvement</th>\n",
       "      <th>jobinvolvement_cat</th>\n",
       "      <th>joblevel</th>\n",
       "      <th>jobrole</th>\n",
       "      <th>jobsatisfaction</th>\n",
       "      <th>maritalstatus</th>\n",
       "      <th>monthlyrate</th>\n",
       "      <th>numcompaniesworked</th>\n",
       "      <th>over18</th>\n",
       "      <th>overtime</th>\n",
       "      <th>percentsalaryhike</th>\n",
       "      <th>performancerating</th>\n",
       "      <th>relationshipsatisfaction</th>\n",
       "      <th>relationshipsatisfaction_cat</th>\n",
       "      <th>standardhours</th>\n",
       "      <th>stockoptionlevel</th>\n",
       "      <th>trainingtimeslastyear</th>\n",
       "      <th>worklifebalance_cat</th>\n",
       "      <th>yearsatcompany</th>\n",
       "      <th>yearsincurrentrole</th>\n",
       "      <th>yearssincelastpromotion</th>\n",
       "      <th>yearswithcurrmanager</th>\n",
       "      <th>sameasmonthlyincome</th>\n",
       "      <th>datebirth</th>\n",
       "      <th>salary</th>\n",
       "      <th>roledepartament</th>\n",
       "      <th>numberchildren</th>\n",
       "      <th>remotework</th>\n",
       "      <th>environmentsatisfaction</th>\n",
       "      <th>hourlyrate</th>\n",
       "      <th>totalworkingyears</th>\n",
       "      <th>worklifebalance</th>\n",
       "      <th>monthlyincome</th>\n",
       "    </tr>\n",
       "  </thead>\n",
       "  <tbody>\n",
       "    <tr>\n",
       "      <th>0</th>\n",
       "      <td>51</td>\n",
       "      <td>No</td>\n",
       "      <td>desconocido</td>\n",
       "      <td>684,0$</td>\n",
       "      <td>desconocido</td>\n",
       "      <td>6.0</td>\n",
       "      <td>3</td>\n",
       "      <td>college</td>\n",
       "      <td>desconocido</td>\n",
       "      <td>1</td>\n",
       "      <td>162,0</td>\n",
       "      <td>nothing</td>\n",
       "      <td>0</td>\n",
       "      <td>male</td>\n",
       "      <td>3</td>\n",
       "      <td>involved</td>\n",
       "      <td>5</td>\n",
       "      <td>research director</td>\n",
       "      <td>3</td>\n",
       "      <td>desconocido</td>\n",
       "      <td>6462.0</td>\n",
       "      <td>7</td>\n",
       "      <td>Y</td>\n",
       "      <td>No</td>\n",
       "      <td>13</td>\n",
       "      <td>3,0</td>\n",
       "      <td>3</td>\n",
       "      <td>medium</td>\n",
       "      <td>desconocido</td>\n",
       "      <td>0</td>\n",
       "      <td>5</td>\n",
       "      <td>medium</td>\n",
       "      <td>20</td>\n",
       "      <td>desconocido</td>\n",
       "      <td>15</td>\n",
       "      <td>15</td>\n",
       "      <td>19537,0</td>\n",
       "      <td>1972</td>\n",
       "      <td>1000000000$</td>\n",
       "      <td>desconocido</td>\n",
       "      <td>NaN</td>\n",
       "      <td>Yes</td>\n",
       "      <td>1.0</td>\n",
       "      <td>51.0</td>\n",
       "      <td>32.424033</td>\n",
       "      <td>3.0</td>\n",
       "      <td>19537.0</td>\n",
       "    </tr>\n",
       "    <tr>\n",
       "      <th>1</th>\n",
       "      <td>52</td>\n",
       "      <td>No</td>\n",
       "      <td>desconocido</td>\n",
       "      <td>699,0$</td>\n",
       "      <td>desconocido</td>\n",
       "      <td>1.0</td>\n",
       "      <td>4</td>\n",
       "      <td>Unknown</td>\n",
       "      <td>life sciences</td>\n",
       "      <td>1</td>\n",
       "      <td>259,0</td>\n",
       "      <td>medium</td>\n",
       "      <td>0</td>\n",
       "      <td>male</td>\n",
       "      <td>2</td>\n",
       "      <td>little involved</td>\n",
       "      <td>5</td>\n",
       "      <td>manager</td>\n",
       "      <td>3</td>\n",
       "      <td>desconocido</td>\n",
       "      <td>5678.0</td>\n",
       "      <td>0</td>\n",
       "      <td>desconocido</td>\n",
       "      <td>desconocido</td>\n",
       "      <td>14</td>\n",
       "      <td>3,0</td>\n",
       "      <td>1</td>\n",
       "      <td>nothing</td>\n",
       "      <td>desconocido</td>\n",
       "      <td>1</td>\n",
       "      <td>5</td>\n",
       "      <td>medium</td>\n",
       "      <td>33</td>\n",
       "      <td>desconocido</td>\n",
       "      <td>11</td>\n",
       "      <td>9</td>\n",
       "      <td>19999,0</td>\n",
       "      <td>1971</td>\n",
       "      <td>1000000000$</td>\n",
       "      <td>desconocido</td>\n",
       "      <td>NaN</td>\n",
       "      <td>Yes</td>\n",
       "      <td>3.0</td>\n",
       "      <td>65.0</td>\n",
       "      <td>34.000000</td>\n",
       "      <td>3.0</td>\n",
       "      <td>19999.0</td>\n",
       "    </tr>\n",
       "  </tbody>\n",
       "</table>\n",
       "</div>"
      ],
      "text/plain": [
       "   age attrition businesstravel dailyrate   department  distancefromhome  \\\n",
       "0   51        No    desconocido    684,0$  desconocido               6.0   \n",
       "1   52        No    desconocido    699,0$  desconocido               1.0   \n",
       "\n",
       "   education education_cat educationfield  employeecount employeenumber  \\\n",
       "0          3       college    desconocido              1          162,0   \n",
       "1          4       Unknown  life sciences              1          259,0   \n",
       "\n",
       "  environmentsatisfaction_cat  gender gender_cat  jobinvolvement  \\\n",
       "0                     nothing       0       male               3   \n",
       "1                      medium       0       male               2   \n",
       "\n",
       "  jobinvolvement_cat  joblevel              jobrole  jobsatisfaction  \\\n",
       "0           involved         5   research director                 3   \n",
       "1    little involved         5             manager                 3   \n",
       "\n",
       "  maritalstatus  monthlyrate  numcompaniesworked       over18     overtime  \\\n",
       "0   desconocido       6462.0                   7            Y           No   \n",
       "1   desconocido       5678.0                   0  desconocido  desconocido   \n",
       "\n",
       "   percentsalaryhike performancerating  relationshipsatisfaction  \\\n",
       "0                 13               3,0                         3   \n",
       "1                 14               3,0                         1   \n",
       "\n",
       "  relationshipsatisfaction_cat standardhours  stockoptionlevel  \\\n",
       "0                       medium   desconocido                 0   \n",
       "1                      nothing   desconocido                 1   \n",
       "\n",
       "   trainingtimeslastyear worklifebalance_cat  yearsatcompany  \\\n",
       "0                      5              medium              20   \n",
       "1                      5              medium              33   \n",
       "\n",
       "  yearsincurrentrole  yearssincelastpromotion  yearswithcurrmanager  \\\n",
       "0        desconocido                       15                    15   \n",
       "1        desconocido                       11                     9   \n",
       "\n",
       "  sameasmonthlyincome  datebirth       salary roledepartament  numberchildren  \\\n",
       "0             19537,0       1972  1000000000$     desconocido             NaN   \n",
       "1             19999,0       1971  1000000000$     desconocido             NaN   \n",
       "\n",
       "  remotework  environmentsatisfaction  hourlyrate  totalworkingyears  \\\n",
       "0        Yes                      1.0        51.0          32.424033   \n",
       "1        Yes                      3.0        65.0          34.000000   \n",
       "\n",
       "   worklifebalance  monthlyincome  \n",
       "0              3.0        19537.0  \n",
       "1              3.0        19999.0  "
      ]
     },
     "execution_count": 115,
     "metadata": {},
     "output_type": "execute_result"
    }
   ],
   "source": [
    "df_data_copy.head(2)"
   ]
  },
  {
   "cell_type": "code",
   "execution_count": 6,
   "metadata": {},
   "outputs": [],
   "source": [
    "nuevas_columnas={columna:columna.lower() for columna in df_data_copy} #modificamos las columnas a minúsculas\n",
    "df_data_copy.rename(columns= nuevas_columnas, inplace= True) #cambiamos las columnas antiguas por las homogeneizadas en el paso anterior (nuevas_columnas)"
   ]
  },
  {
   "cell_type": "markdown",
   "metadata": {},
   "source": [
    "# 2. Limpieza y verificación de datos\n",
    "- 2.1 Modificar columnas categóricas a numéricas\n",
    "- 2.2 Homogeneizar las etiquetas de las columnas categóricas\n",
    "- 2.3 Modificar valores erróneos a nulos\n",
    "- 2.4 Creación de nuevas columnas\n",
    "- 2.5 Duplicados\n",
    "- 2.6 Nulos\n",
    "- 2.7 Eliminar columnas\n",
    "- 2.8 Verificación de categorías\n",
    "- 2.9 Análisis de registros para el mismo empleado (mismo employeenumber)"
   ]
  },
  {
   "cell_type": "markdown",
   "metadata": {},
   "source": [
    "#### 2.1 Cambiar de strings (objeto) a numéricas"
   ]
  },
  {
   "cell_type": "code",
   "execution_count": 8,
   "metadata": {},
   "outputs": [],
   "source": [
    "#____STRING A INT_________\n",
    "#age:               12 valores en letras: cambiarlos a nros + convertir todos los nros a int.\n",
    "#worklifebalance quitar \",0\" y convertir a int.\n",
    "\n",
    "#____STRING A FLOAT_________\n",
    "#totalworkingyears: cambiar comas por puntos\n",
    "#daily rate (comas por puntos y quitarle el símbolo del dolar)\n",
    "#hourly rate\n",
    "#monthlyincome\n",
    "#monthlyrate"
   ]
  },
  {
   "cell_type": "code",
   "execution_count": 8,
   "metadata": {},
   "outputs": [],
   "source": [
    "#Age:\n",
    "def texto_nro(cadena):\n",
    "    cadena = cadena.replace(\"twenty-six\",\"26\").replace(\"twenty-four\",\"24\").replace(\"thirty-two\",\"32\").replace(\"thirty-six\",\"36\").replace(\"thirty-seven\",\"37\").replace(\"thirty-one\",\"31\").replace(\"thirty\",\"30\").replace(\"forty-seven\",\"47\").replace(\"fifty-two\",\"52\").replace(\"fifty-five\",\"55\").replace(\"fifty-eight\",\"58\")\n",
    "    return int(cadena)\n",
    "\n",
    "df_data_copy[\"age\"] = df_data_copy[\"age\"].apply(texto_nro)\n"
   ]
  },
  {
   "cell_type": "code",
   "execution_count": 9,
   "metadata": {},
   "outputs": [],
   "source": [
    "#Worklifebalance:  ### AUNQUE LO DIGA QUE A UN INT. LO CONVIERTE A FLOAT\n",
    "\n",
    "def nro(cadena):\n",
    "\n",
    "    try: \n",
    "        cadena = cadena.replace(\",0\",\"\")\n",
    "        return int(cadena)\n",
    "    \n",
    "    except: \n",
    "        return np.nan #tiene varios valores que son \"nan\"\n",
    "\n",
    "df_data_copy[\"worklifebalance\"] = df_data_copy[\"worklifebalance\"].apply(nro)"
   ]
  },
  {
   "cell_type": "code",
   "execution_count": 10,
   "metadata": {},
   "outputs": [],
   "source": [
    "# totalworkingyears\", \"monthlyincome\", \"monthlyrate: Cambio de string a float\n",
    "\n",
    "def decimal(cadena):\n",
    "\n",
    "    try: \n",
    "        return float(cadena.replace(\",\",\".\").replace(\"$\",\".\"))\n",
    "\n",
    "    except: \n",
    "        return np.nan #tiene varios valores que son \"nan\"\n",
    "    \n",
    "columnas_decimal = [\"totalworkingyears\", \"monthlyincome\"]\n",
    "\n",
    "for columna in columnas_decimal:\n",
    "    df_data_copy[columna] = df_data_copy[columna].apply(decimal)"
   ]
  },
  {
   "cell_type": "code",
   "execution_count": 11,
   "metadata": {},
   "outputs": [],
   "source": [
    "# \"hourlyrate\", \"monthlyrate\" : cambio de string a float - no tienen decimales\n",
    "\n",
    "def decimal3(cadena):\n",
    "    try:\n",
    "        return float(cadena)\n",
    "    except:\n",
    "        return np.nan\n",
    "\n",
    "col_dec_ent = [\"hourlyrate\", \"monthlyrate\"]\n",
    "\n",
    "for columna in col_dec_ent:\n",
    "    df_data_copy[columna] = df_data_copy[columna].apply(decimal3)"
   ]
  },
  {
   "cell_type": "code",
   "execution_count": 13,
   "metadata": {},
   "outputs": [],
   "source": [
    "## Nota: hourlyrate - parecía en el original como si no hubiese nulos pero había algunos que eran \"Not available\" y q contaban como interger"
   ]
  },
  {
   "cell_type": "markdown",
   "metadata": {},
   "source": [
    "#### 2.2 Homogeneizar categóricas"
   ]
  },
  {
   "cell_type": "code",
   "execution_count": 12,
   "metadata": {},
   "outputs": [],
   "source": [
    "#Columnas a homogeneizar sus categorías:\n",
    "# educationfield (minúsculas)\n",
    "# jobrole (minúsculas)\n",
    "# maritalstatus(minúsculas y homogeneización)\n",
    "\n",
    "def homogeneizar(cadena):\n",
    "    try:\n",
    "        return cadena.lower().replace(\"marreid\",\"married\")\n",
    "    except:\n",
    "        return np.nan\n",
    "\n",
    "col_homo = [\"educationfield\", \"jobrole\", \"maritalstatus\"]\n",
    "\n",
    "for columna in col_homo:\n",
    "    df_data_copy[columna] = df_data_copy[columna].apply(homogeneizar)"
   ]
  },
  {
   "cell_type": "code",
   "execution_count": 13,
   "metadata": {},
   "outputs": [],
   "source": [
    "# Homogeneizar \"remotework\" a 2 opciones: Yes, No\n",
    "df_data_copy[\"remotework\"] = df_data_copy[\"remotework\"].replace({\"True\": \"Yes\", 'False': \"No\", '0': \"No\", '1': \"Yes\"})"
   ]
  },
  {
   "cell_type": "code",
   "execution_count": 21,
   "metadata": {},
   "outputs": [
    {
     "data": {
      "text/plain": [
       "192"
      ]
     },
     "execution_count": 21,
     "metadata": {},
     "output_type": "execute_result"
    }
   ],
   "source": [
    "len(df_data_copy[df_data_copy[\"distancefromhome\"]<0])"
   ]
  },
  {
   "cell_type": "markdown",
   "metadata": {},
   "source": [
    "#### 2.3 Modificar valores erróneos a nulos"
   ]
  },
  {
   "cell_type": "code",
   "execution_count": 22,
   "metadata": {},
   "outputs": [],
   "source": [
    "#Distancefromhome - Valores negativos (192 valores) a nulos\n",
    "def convertir_nulos(numero):\n",
    "    if numero < 0:\n",
    "        return np.nan\n",
    "    else:\n",
    "        return numero\n",
    "\n",
    "df_data_copy[\"distancefromhome\"] = df_data_copy[\"distancefromhome\"].apply(convertir_nulos)"
   ]
  },
  {
   "cell_type": "code",
   "execution_count": 26,
   "metadata": {},
   "outputs": [],
   "source": [
    "#Environmentalsatisfaction: modificar valores diferentes a 1-4 a nulos\n",
    "def convertir_nulos (numero):\n",
    "    if numero == 1:\n",
    "        return numero\n",
    "    elif numero == 2: \n",
    "        return numero\n",
    "    elif numero == 3:\n",
    "        return numero\n",
    "    elif numero == 4:\n",
    "        return numero\n",
    "    else:\n",
    "        return np.nan\n",
    "\n",
    "#Creación de una columna con la función\n",
    "df_data_copy[\"environmentsatisfaction\"] = df_data_copy[\"environmentsatisfaction\"].apply(convertir_nulos)"
   ]
  },
  {
   "cell_type": "markdown",
   "metadata": {},
   "source": [
    "#### 2.4 Creación de nuevas columnas"
   ]
  },
  {
   "cell_type": "code",
   "execution_count": 30,
   "metadata": {},
   "outputs": [],
   "source": [
    "#1. GÉNERO\n",
    "\n",
    "#Creamos la función \n",
    "def categorizar_gender (numero):\n",
    "    if numero == 0:\n",
    "        return 'male'\n",
    "    else:\n",
    "        return 'female'"
   ]
  },
  {
   "cell_type": "code",
   "execution_count": 31,
   "metadata": {},
   "outputs": [],
   "source": [
    "#Creación de una columna con la función\n",
    "df_data_copy.insert(12, 'gender_cat', df_data_copy[\"gender\"].apply(categorizar_gender))"
   ]
  },
  {
   "cell_type": "code",
   "execution_count": 34,
   "metadata": {},
   "outputs": [],
   "source": [
    "#2. environmentsatisfaction,relationshipsatisfaction,worklifebalance\n",
    "\n",
    "def categorizar_environmentsatisfaction(valor):\n",
    "\n",
    "    if valor == 4:\n",
    "        return \"maximun\"\n",
    "    elif valor == 3:\n",
    "        return \"medium\"\n",
    "    elif valor == 2:\n",
    "        return \"little\"\n",
    "    elif valor == 1:\n",
    "        return \"nothing\"\n",
    "    else:\n",
    "        return \"unknown\"\n",
    "\n",
    "#df_data_copy[\"environmentsatisfaction_cat\"] = df_data_copy[\"environmentsatisfaction\"].apply(categorizar_environmentsatisfaction)\n",
    "#df_data_copy[\"relationshipsatisfaction_cat\"] = df_data_copy[\"relationshipsatisfaction\"].apply(categorizar_environmentsatisfaction)\n",
    "#df_data_copy[\"worklifebalance_cat\"] = df_data_copy[\"worklifebalance\"].apply(categorizar_environmentsatisfaction)"
   ]
  },
  {
   "cell_type": "code",
   "execution_count": 35,
   "metadata": {},
   "outputs": [],
   "source": [
    "df_data_copy.insert(11, 'environmentsatisfaction_cat', df_data_copy[\"environmentsatisfaction\"].apply(categorizar_environmentsatisfaction))"
   ]
  },
  {
   "cell_type": "code",
   "execution_count": 37,
   "metadata": {},
   "outputs": [],
   "source": [
    "df_data_copy.insert(28, 'relationshipsatisfaction_cat', df_data_copy[\"relationshipsatisfaction\"].apply(categorizar_environmentsatisfaction))"
   ]
  },
  {
   "cell_type": "code",
   "execution_count": 39,
   "metadata": {},
   "outputs": [],
   "source": [
    "df_data_copy.insert(34, 'worklifebalance_cat', df_data_copy[\"worklifebalance\"].apply(categorizar_environmentsatisfaction))\n"
   ]
  },
  {
   "cell_type": "code",
   "execution_count": 43,
   "metadata": {},
   "outputs": [],
   "source": [
    "#education\n",
    "def categorizar_education(valor):\n",
    "    if valor == 5:\n",
    "        return \"university\"\n",
    "    elif valor == 3:\n",
    "        return \"college\"\n",
    "    elif valor == 2:\n",
    "        return \"high school\"\n",
    "    elif valor == 1:\n",
    "        return \"middle school\"\n",
    "    else:\n",
    "        return \"Unknown\""
   ]
  },
  {
   "cell_type": "code",
   "execution_count": 44,
   "metadata": {},
   "outputs": [],
   "source": [
    "df_data_copy.insert(7, 'education_cat', df_data_copy[\"education\"].apply(categorizar_education))"
   ]
  },
  {
   "cell_type": "code",
   "execution_count": 45,
   "metadata": {},
   "outputs": [],
   "source": [
    "#\"jobinvolvement\"\n",
    "\n",
    "def categorizar_jobinvolvement(valor):\n",
    "    if valor == 4:\n",
    "        return \"very involved\"\n",
    "    elif valor == 3:\n",
    "        return \"involved\"\n",
    "    elif valor == 2:\n",
    "        return \"little involved\"\n",
    "    elif valor == 1:\n",
    "        return \"not involved\"\n",
    "    else:\n",
    "        return \"Unknown\""
   ]
  },
  {
   "cell_type": "code",
   "execution_count": 47,
   "metadata": {},
   "outputs": [],
   "source": [
    "df_data_copy.insert(17, 'jobinvolvement_cat', df_data_copy[\"jobinvolvement\"].apply(categorizar_jobinvolvement))"
   ]
  },
  {
   "cell_type": "markdown",
   "metadata": {},
   "source": [
    "#### 2.5 Duplicados (filas)"
   ]
  },
  {
   "cell_type": "code",
   "execution_count": 49,
   "metadata": {},
   "outputs": [
    {
     "data": {
      "text/plain": [
       "43"
      ]
     },
     "execution_count": 49,
     "metadata": {},
     "output_type": "execute_result"
    }
   ],
   "source": [
    "#Nro. de duplicados (todas las filas son iguales)\n",
    "df_data_copy.duplicated().sum()"
   ]
  },
  {
   "cell_type": "code",
   "execution_count": 53,
   "metadata": {},
   "outputs": [
    {
     "name": "stdout",
     "output_type": "stream",
     "text": [
      "Cantidad de filas después de eliminar duplicados: 1571\n"
     ]
    }
   ],
   "source": [
    "#eliminar duplicados\n",
    "df_data_copy = df_data_copy.drop_duplicates()\n",
    "print(\"Cantidad de filas después de eliminar duplicados:\", len(df_data_copy))"
   ]
  },
  {
   "cell_type": "markdown",
   "metadata": {},
   "source": [
    "#### 2.6 Nulos"
   ]
  },
  {
   "cell_type": "code",
   "execution_count": null,
   "metadata": {},
   "outputs": [],
   "source": [
    "#1.CATEGÓRICAS - Ana\n",
    "# businesstravel\n",
    "# department - muchos nulos\n",
    "# education field\n",
    "# marital status - 119\n",
    "# overtime\n",
    "# performancerating - 195 nulos\n",
    "# Role in department - muchos nulos"
   ]
  },
  {
   "cell_type": "code",
   "execution_count": 59,
   "metadata": {},
   "outputs": [
    {
     "name": "stdout",
     "output_type": "stream",
     "text": [
      "Las columnas categóricas que tienen nulos son : \n",
      " \n",
      "Index(['businesstravel', 'department', 'educationfield', 'employeenumber',\n",
      "       'maritalstatus', 'over18', 'overtime', 'performancerating',\n",
      "       'standardhours', 'yearsincurrentrole', 'sameasmonthlyincome',\n",
      "       'roledepartament'],\n",
      "      dtype='object')\n"
     ]
    }
   ],
   "source": [
    "#Lsta de columnas categoricas con nulos\n",
    "nulos_esta_cat = df_data_copy[df_data_copy.columns[df_data_copy.isnull().any()]].select_dtypes(include = \"O\").columns\n",
    "print(\"Las columnas categóricas que tienen nulos son : \\n \")\n",
    "print(nulos_esta_cat)"
   ]
  },
  {
   "cell_type": "code",
   "execution_count": 60,
   "metadata": {},
   "outputs": [
    {
     "name": "stdout",
     "output_type": "stream",
     "text": [
      "La distribución de las categorías para la columna BUSINESSTRAVEL\n"
     ]
    },
    {
     "data": {
      "text/plain": [
       "travel_rarely        0.364736\n",
       "travel_frequently    0.099300\n",
       "non-travel           0.057288\n",
       "Name: businesstravel, dtype: float64"
      ]
     },
     "metadata": {},
     "output_type": "display_data"
    },
    {
     "name": "stdout",
     "output_type": "stream",
     "text": [
      "........................\n",
      "La distribución de las categorías para la columna DEPARTMENT\n"
     ]
    },
    {
     "data": {
      "text/plain": [
       " Research & Development     0.124761\n",
       " Sales                      0.057925\n",
       " Human Resources            0.009548\n",
       "Name: department, dtype: float64"
      ]
     },
     "metadata": {},
     "output_type": "display_data"
    },
    {
     "name": "stdout",
     "output_type": "stream",
     "text": [
      "........................\n",
      "La distribución de las categorías para la columna EDUCATIONFIELD\n"
     ]
    },
    {
     "data": {
      "text/plain": [
       "life sciences       0.214513\n",
       "medical             0.171229\n",
       "marketing           0.064290\n",
       "technical degree    0.042648\n",
       "other               0.035010\n",
       "human resources     0.007638\n",
       "Name: educationfield, dtype: float64"
      ]
     },
     "metadata": {},
     "output_type": "display_data"
    },
    {
     "name": "stdout",
     "output_type": "stream",
     "text": [
      "........................\n",
      "La distribución de las categorías para la columna EMPLOYEENUMBER\n"
     ]
    },
    {
     "data": {
      "text/plain": [
       "454,0     0.001273\n",
       "789,0     0.001273\n",
       "423,0     0.001273\n",
       "448,0     0.001273\n",
       "458,0     0.001273\n",
       "            ...   \n",
       "998,0     0.000637\n",
       "1120,0    0.000637\n",
       "1143,0    0.000637\n",
       "1251,0    0.000637\n",
       "2040,0    0.000637\n",
       "Name: employeenumber, Length: 1079, dtype: float64"
      ]
     },
     "metadata": {},
     "output_type": "display_data"
    },
    {
     "name": "stdout",
     "output_type": "stream",
     "text": [
      "........................\n",
      "La distribución de las categorías para la columna MARITALSTATUS\n"
     ]
    },
    {
     "data": {
      "text/plain": [
       "married     0.267346\n",
       "single      0.201782\n",
       "divorced    0.124761\n",
       "Name: maritalstatus, dtype: float64"
      ]
     },
     "metadata": {},
     "output_type": "display_data"
    },
    {
     "name": "stdout",
     "output_type": "stream",
     "text": [
      "........................\n",
      "La distribución de las categorías para la columna OVER18\n"
     ]
    },
    {
     "data": {
      "text/plain": [
       "Y    0.441757\n",
       "Name: over18, dtype: float64"
      ]
     },
     "metadata": {},
     "output_type": "display_data"
    },
    {
     "name": "stdout",
     "output_type": "stream",
     "text": [
      "........................\n",
      "La distribución de las categorías para la columna OVERTIME\n"
     ]
    },
    {
     "data": {
      "text/plain": [
       "No     0.420751\n",
       "Yes    0.159771\n",
       "Name: overtime, dtype: float64"
      ]
     },
     "metadata": {},
     "output_type": "display_data"
    },
    {
     "name": "stdout",
     "output_type": "stream",
     "text": [
      "........................\n",
      "La distribución de las categorías para la columna PERFORMANCERATING\n"
     ]
    },
    {
     "data": {
      "text/plain": [
       "3,0    0.745385\n",
       "4,0    0.133673\n",
       "Name: performancerating, dtype: float64"
      ]
     },
     "metadata": {},
     "output_type": "display_data"
    },
    {
     "name": "stdout",
     "output_type": "stream",
     "text": [
      "........................\n",
      "La distribución de las categorías para la columna STANDARDHOURS\n"
     ]
    },
    {
     "data": {
      "text/plain": [
       "80,0    0.26098\n",
       "Name: standardhours, dtype: float64"
      ]
     },
     "metadata": {},
     "output_type": "display_data"
    },
    {
     "name": "stdout",
     "output_type": "stream",
     "text": [
      "........................\n",
      "La distribución de las categorías para la columna YEARSINCURRENTROLE\n"
     ]
    },
    {
     "data": {
      "text/plain": [
       "2,0     0.006365\n",
       "7,0     0.002546\n",
       "0,0     0.002546\n",
       "4,0     0.001910\n",
       "1,0     0.001910\n",
       "11,0    0.001273\n",
       "6,0     0.001273\n",
       "3,0     0.001273\n",
       "13,0    0.000637\n",
       "12,0    0.000637\n",
       "Name: yearsincurrentrole, dtype: float64"
      ]
     },
     "metadata": {},
     "output_type": "display_data"
    },
    {
     "name": "stdout",
     "output_type": "stream",
     "text": [
      "........................\n",
      "La distribución de las categorías para la columna SAMEASMONTHLYINCOME\n"
     ]
    },
    {
     "data": {
      "text/plain": [
       "6347,0     0.002546\n",
       "5304,0     0.002546\n",
       "2657,0     0.001910\n",
       "8392,0     0.001273\n",
       "7756,0     0.001273\n",
       "             ...   \n",
       "5368,0     0.000637\n",
       "12936,0    0.000637\n",
       "4221,0     0.000637\n",
       "4963,0     0.000637\n",
       "19431,0    0.000637\n",
       "Name: sameasmonthlyincome, Length: 668, dtype: float64"
      ]
     },
     "metadata": {},
     "output_type": "display_data"
    },
    {
     "name": "stdout",
     "output_type": "stream",
     "text": [
      "........................\n",
      "La distribución de las categorías para la columna ROLEDEPARTAMENT\n"
     ]
    },
    {
     "data": {
      "text/plain": [
       " MaNAgeR  -  Sales                                        0.001273\n",
       " ManaGER  -  Research & Development                       0.000637\n",
       " ReseaRch scIENTisT  -  Research & Development            0.000637\n",
       " ManufacTURInG DIRECtOR  -  Research & Development        0.000637\n",
       " hEalthCaRe reprEseNTaTiVe  -  Research & Development     0.000637\n",
       "                                                            ...   \n",
       " saLES eXEcUTiVE  -  Sales                                0.000637\n",
       " mANUfacTURiNG dIRectOR  -  Research & Development        0.000637\n",
       " huMAn ResOurces  -  Human Resources                      0.000637\n",
       " HUMAN ResoURCeS  -  Human Resources                      0.000637\n",
       " sAleS EXECUtIvE  -  Sales                                0.000637\n",
       "Name: roledepartament, Length: 301, dtype: float64"
      ]
     },
     "metadata": {},
     "output_type": "display_data"
    },
    {
     "name": "stdout",
     "output_type": "stream",
     "text": [
      "........................\n"
     ]
    }
   ],
   "source": [
    "# El 'value_counts()' de cada una de las columnas categóricas que tienen nulos para saber como es la distribución de sus categorías\n",
    "for col in nulos_esta_cat:\n",
    "    print(f\"La distribución de las categorías para la columna {col.upper()}\")\n",
    "    display(df_data_copy[col].value_counts() / df_data_copy.shape[0])\n",
    "    print(\"........................\")"
   ]
  },
  {
   "cell_type": "markdown",
   "metadata": {},
   "source": [
    "Performance rating es la única que tendría posibilidades de cambiar a la moda, las otras tienen valores muy bajos y seria convenientes cmabiar por desconocido. "
   ]
  },
  {
   "cell_type": "code",
   "execution_count": 65,
   "metadata": {},
   "outputs": [],
   "source": [
    "columnas_moda = ['performancerating']\n",
    "columnas_desconocido = ['businesstravel', 'department', 'educationfield', 'employeenumber',\n",
    "       'maritalstatus', 'over18', 'overtime', 'performancerating',\n",
    "       'standardhours', 'yearsincurrentrole', 'sameasmonthlyincome',\n",
    "       'roledepartament']"
   ]
  },
  {
   "cell_type": "code",
   "execution_count": 66,
   "metadata": {},
   "outputs": [
    {
     "name": "stdout",
     "output_type": "stream",
     "text": [
      "Después del reemplazo usando 'fillna' quedan los siguientes nulos\n"
     ]
    },
    {
     "data": {
      "text/plain": [
       "performancerating    0\n",
       "dtype: int64"
      ]
     },
     "execution_count": 66,
     "metadata": {},
     "output_type": "execute_result"
    }
   ],
   "source": [
    "#Columna moda\n",
    "for columna in columnas_moda:\n",
    "    moda = df_data_copy[col].mode()[0]    \n",
    "    df_data_copy[columna] = df_data_copy[columna].fillna(moda)\n",
    "\n",
    "print(\"Después del reemplazo usando 'fillna' quedan los siguientes nulos\")\n",
    "df_data_copy[columnas_moda].isnull().sum()"
   ]
  },
  {
   "cell_type": "code",
   "execution_count": 67,
   "metadata": {},
   "outputs": [
    {
     "name": "stdout",
     "output_type": "stream",
     "text": [
      "Después del reemplazo usando 'fillna' quedan los siguientes nulos\n"
     ]
    },
    {
     "data": {
      "text/plain": [
       "businesstravel         0\n",
       "department             0\n",
       "educationfield         0\n",
       "employeenumber         0\n",
       "maritalstatus          0\n",
       "over18                 0\n",
       "overtime               0\n",
       "performancerating      0\n",
       "standardhours          0\n",
       "yearsincurrentrole     0\n",
       "sameasmonthlyincome    0\n",
       "roledepartament        0\n",
       "dtype: int64"
      ]
     },
     "execution_count": 67,
     "metadata": {},
     "output_type": "execute_result"
    }
   ],
   "source": [
    "#columna desconocido\n",
    "for columna in columnas_desconocido:\n",
    "    df_data_copy[columna] = df_data_copy[columna].fillna(\"desconocido\") \n",
    "\n",
    "print(\"Después del reemplazo usando 'fillna' quedan los siguientes nulos\")\n",
    "df_data_copy[columnas_desconocido].isnull().sum()"
   ]
  },
  {
   "cell_type": "code",
   "execution_count": 68,
   "metadata": {},
   "outputs": [],
   "source": [
    "#2.NUMÉRICAS - Elena\n",
    "# hourly_rate = 84 nulos\n",
    "# Environmental satisfaction \n",
    "# monthlyincome\n",
    "# worklifebalance - 108\n",
    "# totalworkingyears\n",
    "# numberofchildren"
   ]
  },
  {
   "cell_type": "code",
   "execution_count": 69,
   "metadata": {},
   "outputs": [
    {
     "name": "stdout",
     "output_type": "stream",
     "text": [
      "Index(['distancefromhome', 'environmentsatisfaction', 'hourlyrate',\n",
      "       'monthlyincome', 'totalworkingyears', 'worklifebalance',\n",
      "       'numberchildren'],\n",
      "      dtype='object')\n"
     ]
    }
   ],
   "source": [
    "#Columnas numéricas con nulos \n",
    "nulos_num = df_data_copy[df_data_copy.columns[df_data_copy.isnull().any()]].select_dtypes(include = np.number).columns\n",
    "print(nulos_num)"
   ]
  },
  {
   "cell_type": "code",
   "execution_count": 70,
   "metadata": {},
   "outputs": [
    {
     "data": {
      "text/html": [
       "<div>\n",
       "<style scoped>\n",
       "    .dataframe tbody tr th:only-of-type {\n",
       "        vertical-align: middle;\n",
       "    }\n",
       "\n",
       "    .dataframe tbody tr th {\n",
       "        vertical-align: top;\n",
       "    }\n",
       "\n",
       "    .dataframe thead th {\n",
       "        text-align: right;\n",
       "    }\n",
       "</style>\n",
       "<table border=\"1\" class=\"dataframe\">\n",
       "  <thead>\n",
       "    <tr style=\"text-align: right;\">\n",
       "      <th></th>\n",
       "      <th>index</th>\n",
       "      <th>0</th>\n",
       "    </tr>\n",
       "  </thead>\n",
       "  <tbody>\n",
       "    <tr>\n",
       "      <th>0</th>\n",
       "      <td>distancefromhome</td>\n",
       "      <td>12.221515</td>\n",
       "    </tr>\n",
       "    <tr>\n",
       "      <th>1</th>\n",
       "      <td>environmentsatisfaction</td>\n",
       "      <td>6.365372</td>\n",
       "    </tr>\n",
       "    <tr>\n",
       "      <th>2</th>\n",
       "      <td>hourlyrate</td>\n",
       "      <td>5.346913</td>\n",
       "    </tr>\n",
       "    <tr>\n",
       "      <th>3</th>\n",
       "      <td>monthlyincome</td>\n",
       "      <td>52.450668</td>\n",
       "    </tr>\n",
       "    <tr>\n",
       "      <th>4</th>\n",
       "      <td>totalworkingyears</td>\n",
       "      <td>32.590707</td>\n",
       "    </tr>\n",
       "    <tr>\n",
       "      <th>5</th>\n",
       "      <td>worklifebalance</td>\n",
       "      <td>6.619987</td>\n",
       "    </tr>\n",
       "    <tr>\n",
       "      <th>6</th>\n",
       "      <td>numberchildren</td>\n",
       "      <td>100.000000</td>\n",
       "    </tr>\n",
       "  </tbody>\n",
       "</table>\n",
       "</div>"
      ],
      "text/plain": [
       "                     index           0\n",
       "0         distancefromhome   12.221515\n",
       "1  environmentsatisfaction    6.365372\n",
       "2               hourlyrate    5.346913\n",
       "3            monthlyincome   52.450668\n",
       "4        totalworkingyears   32.590707\n",
       "5          worklifebalance    6.619987\n",
       "6           numberchildren  100.000000"
      ]
     },
     "execution_count": 70,
     "metadata": {},
     "output_type": "execute_result"
    }
   ],
   "source": [
    "#% de nulos en las columnas numéricas con nulos\n",
    "nl = (df_data_copy[nulos_num].isnull().sum() / df_data_copy.shape[0]) * 100\n",
    "#nl.sort_values(ascending=False).reset_index()\n",
    "nl.reset_index()"
   ]
  },
  {
   "cell_type": "code",
   "execution_count": 72,
   "metadata": {},
   "outputs": [
    {
     "data": {
      "image/png": "[encoded data removed]",
      "text/plain": [
       "<Figure size 576x720 with 7 Axes>"
      ]
     },
     "metadata": {},
     "output_type": "display_data"
    }
   ],
   "source": [
    "#Valores atípicos\n",
    "fig, axes = plt.subplots(nrows = 4, ncols = 2, figsize = (8,10)) \n",
    "axes = axes.flat\n",
    "\n",
    "for indice, col in enumerate(nulos_num):\n",
    "    sns.boxplot(x = col, data = df_data_copy, ax = axes[indice])\n",
    "    plt.xlabel(col)  \n",
    "\n",
    "plt.tight_layout()\n",
    "fig.delaxes(axes[-1])\n",
    "plt.show();"
   ]
  },
  {
   "cell_type": "markdown",
   "metadata": {},
   "source": [
    "#### Decisiones: Nulos (numéricas)\n",
    "- Number of children: borrarla\n",
    "- Todas las demás: +5% nulos a 52% utilizar el iterate y knn imputer - atípicos en monthlyincome y totalworkingyears"
   ]
  },
  {
   "cell_type": "code",
   "execution_count": 73,
   "metadata": {},
   "outputs": [
    {
     "data": {
      "text/plain": [
       "array([[1.00000000e+00, 5.10000000e+01, 1.95370000e+04, 3.24240335e+01,\n",
       "        3.00000000e+00],\n",
       "       [3.00000000e+00, 6.50000000e+01, 1.99990000e+04, 3.40000000e+01,\n",
       "        3.00000000e+00],\n",
       "       [3.00000000e+00, 5.80000000e+01, 1.92320000e+04, 2.20000000e+01,\n",
       "        3.23475825e+00],\n",
       "       ...,\n",
       "       [3.00000000e+00, 5.70000000e+01, 4.44700000e+03, 8.96949092e+00,\n",
       "        2.00000000e+00],\n",
       "       [2.79963801e+00, 4.10000000e+01, 5.01603245e+03, 9.00000000e+00,\n",
       "        3.00000000e+00],\n",
       "       [4.00000000e+00, 7.50000000e+01, 1.08450000e+04, 1.84227519e+01,\n",
       "        3.00000000e+00]])"
      ]
     },
     "execution_count": 73,
     "metadata": {},
     "output_type": "execute_result"
    }
   ],
   "source": [
    "#ITERATIVE IMPUTER\n",
    "\n",
    "imputer_iterative = IterativeImputer(max_iter =20, random_state=42)\n",
    "imputer_iterative_imputado = imputer_iterative.fit_transform(df_data_copy[['environmentsatisfaction', 'hourlyrate', 'monthlyincome','totalworkingyears', 'worklifebalance']])\n",
    "imputer_iterative_imputado"
   ]
  },
  {
   "cell_type": "code",
   "execution_count": 74,
   "metadata": {},
   "outputs": [],
   "source": [
    "df_data_copy[['environmentsatisfaction_iterativo', 'hourlyrate_iterativo', 'monthlyincome_iterativo', 'totalworkingyears_iterativo', 'worklifebalance_iterativo']] = imputer_iterative_imputado"
   ]
  },
  {
   "cell_type": "code",
   "execution_count": 75,
   "metadata": {},
   "outputs": [
    {
     "data": {
      "text/plain": [
       "array([[1.0000e+00, 5.1000e+01, 1.9537e+04, 8.6000e+00, 3.0000e+00],\n",
       "       [3.0000e+00, 6.5000e+01, 1.9999e+04, 3.4000e+01, 3.0000e+00],\n",
       "       [3.0000e+00, 5.8000e+01, 1.9232e+04, 2.2000e+01, 3.0000e+00],\n",
       "       ...,\n",
       "       [3.0000e+00, 5.7000e+01, 4.4470e+03, 1.1800e+01, 2.0000e+00],\n",
       "       [3.8000e+00, 4.1000e+01, 8.7630e+03, 9.0000e+00, 3.0000e+00],\n",
       "       [4.0000e+00, 7.5000e+01, 1.0845e+04, 1.5600e+01, 3.0000e+00]])"
      ]
     },
     "execution_count": 75,
     "metadata": {},
     "output_type": "execute_result"
    }
   ],
   "source": [
    "#KNN IMPUTER\n",
    "imputer_knn = KNNImputer(n_neighbors=5)\n",
    "imputer_knn_imputado = imputer_knn.fit_transform(df_data_copy[['environmentsatisfaction', 'hourlyrate', 'monthlyincome',\n",
    "       'totalworkingyears', 'worklifebalance']])\n",
    "imputer_knn_imputado"
   ]
  },
  {
   "cell_type": "code",
   "execution_count": 76,
   "metadata": {},
   "outputs": [],
   "source": [
    "df_data_copy[['environmentsatisfaction_knn', 'hourlyrate_knn', 'monthlyincome_knn', 'totalworkingyears_knn', 'worklifebalance_knn']] = imputer_knn_imputado"
   ]
  },
  {
   "cell_type": "code",
   "execution_count": 77,
   "metadata": {},
   "outputs": [
    {
     "data": {
      "text/html": [
       "<div>\n",
       "<style scoped>\n",
       "    .dataframe tbody tr th:only-of-type {\n",
       "        vertical-align: middle;\n",
       "    }\n",
       "\n",
       "    .dataframe tbody tr th {\n",
       "        vertical-align: top;\n",
       "    }\n",
       "\n",
       "    .dataframe thead th {\n",
       "        text-align: right;\n",
       "    }\n",
       "</style>\n",
       "<table border=\"1\" class=\"dataframe\">\n",
       "  <thead>\n",
       "    <tr style=\"text-align: right;\">\n",
       "      <th></th>\n",
       "      <th>count</th>\n",
       "      <th>mean</th>\n",
       "      <th>std</th>\n",
       "      <th>min</th>\n",
       "      <th>25%</th>\n",
       "      <th>50%</th>\n",
       "      <th>75%</th>\n",
       "      <th>max</th>\n",
       "    </tr>\n",
       "  </thead>\n",
       "  <tbody>\n",
       "    <tr>\n",
       "      <th>environmentsatisfaction</th>\n",
       "      <td>1471.0</td>\n",
       "      <td>2.716519</td>\n",
       "      <td>1.096311</td>\n",
       "      <td>1.000000</td>\n",
       "      <td>2.000000</td>\n",
       "      <td>3.00000</td>\n",
       "      <td>4.000000</td>\n",
       "      <td>4.000000</td>\n",
       "    </tr>\n",
       "    <tr>\n",
       "      <th>environmentsatisfaction_iterativo</th>\n",
       "      <td>1571.0</td>\n",
       "      <td>2.716812</td>\n",
       "      <td>1.060940</td>\n",
       "      <td>1.000000</td>\n",
       "      <td>2.000000</td>\n",
       "      <td>3.00000</td>\n",
       "      <td>4.000000</td>\n",
       "      <td>4.000000</td>\n",
       "    </tr>\n",
       "    <tr>\n",
       "      <th>environmentsatisfaction_knn</th>\n",
       "      <td>1571.0</td>\n",
       "      <td>2.728708</td>\n",
       "      <td>1.071202</td>\n",
       "      <td>1.000000</td>\n",
       "      <td>2.000000</td>\n",
       "      <td>3.00000</td>\n",
       "      <td>4.000000</td>\n",
       "      <td>4.000000</td>\n",
       "    </tr>\n",
       "    <tr>\n",
       "      <th>hourlyrate</th>\n",
       "      <td>1487.0</td>\n",
       "      <td>65.990585</td>\n",
       "      <td>20.188310</td>\n",
       "      <td>30.000000</td>\n",
       "      <td>48.000000</td>\n",
       "      <td>66.00000</td>\n",
       "      <td>83.000000</td>\n",
       "      <td>100.000000</td>\n",
       "    </tr>\n",
       "    <tr>\n",
       "      <th>hourlyrate_iterativo</th>\n",
       "      <td>1571.0</td>\n",
       "      <td>65.995913</td>\n",
       "      <td>19.643781</td>\n",
       "      <td>30.000000</td>\n",
       "      <td>49.000000</td>\n",
       "      <td>66.00000</td>\n",
       "      <td>83.000000</td>\n",
       "      <td>100.000000</td>\n",
       "    </tr>\n",
       "    <tr>\n",
       "      <th>hourlyrate_knn</th>\n",
       "      <td>1571.0</td>\n",
       "      <td>66.060344</td>\n",
       "      <td>19.710839</td>\n",
       "      <td>30.000000</td>\n",
       "      <td>49.000000</td>\n",
       "      <td>66.00000</td>\n",
       "      <td>83.000000</td>\n",
       "      <td>100.000000</td>\n",
       "    </tr>\n",
       "    <tr>\n",
       "      <th>monthlyincome</th>\n",
       "      <td>747.0</td>\n",
       "      <td>6462.787149</td>\n",
       "      <td>4761.303147</td>\n",
       "      <td>1009.000000</td>\n",
       "      <td>2898.000000</td>\n",
       "      <td>4851.00000</td>\n",
       "      <td>8172.000000</td>\n",
       "      <td>19999.000000</td>\n",
       "    </tr>\n",
       "    <tr>\n",
       "      <th>monthlyincome_iterativo</th>\n",
       "      <td>1571.0</td>\n",
       "      <td>6381.482987</td>\n",
       "      <td>4003.823746</td>\n",
       "      <td>-393.392234</td>\n",
       "      <td>3592.566803</td>\n",
       "      <td>5704.79979</td>\n",
       "      <td>7011.443342</td>\n",
       "      <td>20744.257662</td>\n",
       "    </tr>\n",
       "    <tr>\n",
       "      <th>monthlyincome_knn</th>\n",
       "      <td>1571.0</td>\n",
       "      <td>6715.778230</td>\n",
       "      <td>3701.211762</td>\n",
       "      <td>1009.000000</td>\n",
       "      <td>4116.700000</td>\n",
       "      <td>5985.60000</td>\n",
       "      <td>8385.300000</td>\n",
       "      <td>19999.000000</td>\n",
       "    </tr>\n",
       "    <tr>\n",
       "      <th>totalworkingyears</th>\n",
       "      <td>1059.0</td>\n",
       "      <td>11.271010</td>\n",
       "      <td>7.658793</td>\n",
       "      <td>0.000000</td>\n",
       "      <td>6.000000</td>\n",
       "      <td>10.00000</td>\n",
       "      <td>15.000000</td>\n",
       "      <td>40.000000</td>\n",
       "    </tr>\n",
       "    <tr>\n",
       "      <th>totalworkingyears_iterativo</th>\n",
       "      <td>1571.0</td>\n",
       "      <td>11.479343</td>\n",
       "      <td>7.071758</td>\n",
       "      <td>0.000000</td>\n",
       "      <td>7.000000</td>\n",
       "      <td>10.00000</td>\n",
       "      <td>13.000000</td>\n",
       "      <td>40.000000</td>\n",
       "    </tr>\n",
       "    <tr>\n",
       "      <th>totalworkingyears_knn</th>\n",
       "      <td>1571.0</td>\n",
       "      <td>10.978612</td>\n",
       "      <td>6.544601</td>\n",
       "      <td>0.000000</td>\n",
       "      <td>7.000000</td>\n",
       "      <td>10.00000</td>\n",
       "      <td>13.600000</td>\n",
       "      <td>40.000000</td>\n",
       "    </tr>\n",
       "    <tr>\n",
       "      <th>worklifebalance</th>\n",
       "      <td>1467.0</td>\n",
       "      <td>2.762100</td>\n",
       "      <td>0.707576</td>\n",
       "      <td>1.000000</td>\n",
       "      <td>2.000000</td>\n",
       "      <td>3.00000</td>\n",
       "      <td>3.000000</td>\n",
       "      <td>4.000000</td>\n",
       "    </tr>\n",
       "    <tr>\n",
       "      <th>worklifebalance_iterativo</th>\n",
       "      <td>1571.0</td>\n",
       "      <td>2.761667</td>\n",
       "      <td>0.684538</td>\n",
       "      <td>1.000000</td>\n",
       "      <td>2.000000</td>\n",
       "      <td>3.00000</td>\n",
       "      <td>3.000000</td>\n",
       "      <td>4.000000</td>\n",
       "    </tr>\n",
       "    <tr>\n",
       "      <th>worklifebalance_knn</th>\n",
       "      <td>1571.0</td>\n",
       "      <td>2.760280</td>\n",
       "      <td>0.688579</td>\n",
       "      <td>1.000000</td>\n",
       "      <td>2.000000</td>\n",
       "      <td>3.00000</td>\n",
       "      <td>3.000000</td>\n",
       "      <td>4.000000</td>\n",
       "    </tr>\n",
       "  </tbody>\n",
       "</table>\n",
       "</div>"
      ],
      "text/plain": [
       "                                    count         mean          std  \\\n",
       "environmentsatisfaction            1471.0     2.716519     1.096311   \n",
       "environmentsatisfaction_iterativo  1571.0     2.716812     1.060940   \n",
       "environmentsatisfaction_knn        1571.0     2.728708     1.071202   \n",
       "hourlyrate                         1487.0    65.990585    20.188310   \n",
       "hourlyrate_iterativo               1571.0    65.995913    19.643781   \n",
       "hourlyrate_knn                     1571.0    66.060344    19.710839   \n",
       "monthlyincome                       747.0  6462.787149  4761.303147   \n",
       "monthlyincome_iterativo            1571.0  6381.482987  4003.823746   \n",
       "monthlyincome_knn                  1571.0  6715.778230  3701.211762   \n",
       "totalworkingyears                  1059.0    11.271010     7.658793   \n",
       "totalworkingyears_iterativo        1571.0    11.479343     7.071758   \n",
       "totalworkingyears_knn              1571.0    10.978612     6.544601   \n",
       "worklifebalance                    1467.0     2.762100     0.707576   \n",
       "worklifebalance_iterativo          1571.0     2.761667     0.684538   \n",
       "worklifebalance_knn                1571.0     2.760280     0.688579   \n",
       "\n",
       "                                           min          25%         50%  \\\n",
       "environmentsatisfaction               1.000000     2.000000     3.00000   \n",
       "environmentsatisfaction_iterativo     1.000000     2.000000     3.00000   \n",
       "environmentsatisfaction_knn           1.000000     2.000000     3.00000   \n",
       "hourlyrate                           30.000000    48.000000    66.00000   \n",
       "hourlyrate_iterativo                 30.000000    49.000000    66.00000   \n",
       "hourlyrate_knn                       30.000000    49.000000    66.00000   \n",
       "monthlyincome                      1009.000000  2898.000000  4851.00000   \n",
       "monthlyincome_iterativo            -393.392234  3592.566803  5704.79979   \n",
       "monthlyincome_knn                  1009.000000  4116.700000  5985.60000   \n",
       "totalworkingyears                     0.000000     6.000000    10.00000   \n",
       "totalworkingyears_iterativo           0.000000     7.000000    10.00000   \n",
       "totalworkingyears_knn                 0.000000     7.000000    10.00000   \n",
       "worklifebalance                       1.000000     2.000000     3.00000   \n",
       "worklifebalance_iterativo             1.000000     2.000000     3.00000   \n",
       "worklifebalance_knn                   1.000000     2.000000     3.00000   \n",
       "\n",
       "                                           75%           max  \n",
       "environmentsatisfaction               4.000000      4.000000  \n",
       "environmentsatisfaction_iterativo     4.000000      4.000000  \n",
       "environmentsatisfaction_knn           4.000000      4.000000  \n",
       "hourlyrate                           83.000000    100.000000  \n",
       "hourlyrate_iterativo                 83.000000    100.000000  \n",
       "hourlyrate_knn                       83.000000    100.000000  \n",
       "monthlyincome                      8172.000000  19999.000000  \n",
       "monthlyincome_iterativo            7011.443342  20744.257662  \n",
       "monthlyincome_knn                  8385.300000  19999.000000  \n",
       "totalworkingyears                    15.000000     40.000000  \n",
       "totalworkingyears_iterativo          13.000000     40.000000  \n",
       "totalworkingyears_knn                13.600000     40.000000  \n",
       "worklifebalance                       3.000000      4.000000  \n",
       "worklifebalance_iterativo             3.000000      4.000000  \n",
       "worklifebalance_knn                   3.000000      4.000000  "
      ]
     },
     "execution_count": 77,
     "metadata": {},
     "output_type": "execute_result"
    }
   ],
   "source": [
    "#Comparamos las estadísticas generadas de por el iterative y el knn para decidir cuál coger (aquel cuya media y mediana sea más parecida a la original- En la columna con valores atípicos cogemos aquel cuya mediana sea más parecida a la original)\n",
    "df_data_copy.describe()[['environmentsatisfaction', 'environmentsatisfaction_iterativo', 'environmentsatisfaction_knn', 'hourlyrate', 'hourlyrate_iterativo', 'hourlyrate_knn', 'monthlyincome', 'monthlyincome_iterativo', 'monthlyincome_knn', 'totalworkingyears', 'totalworkingyears_iterativo', 'totalworkingyears_knn', 'worklifebalance', 'worklifebalance_iterativo', 'worklifebalance_knn']].T"
   ]
  },
  {
   "cell_type": "markdown",
   "metadata": {},
   "source": [
    "### Cuál coger?\n",
    "- env.satif_iterativo\n",
    "- hourlyrate_iterativo\n",
    "- Monthlyincome?? knn es quizás mejor!mejor representativo la moda q la media pq tiene muchos valores \n",
    "- totalworkingyears_iterativo\n",
    "- worklifebalance_iterativo"
   ]
  },
  {
   "cell_type": "code",
   "execution_count": 79,
   "metadata": {},
   "outputs": [],
   "source": [
    "#Quitamos las columnas originales y las de aquellos métodos q están más alejados de la media y medianas de las originales\n",
    "df_data_copy.drop(['environmentsatisfaction', 'environmentsatisfaction_knn', 'hourlyrate', 'hourlyrate_knn', 'monthlyincome', 'monthlyincome_iterativo', 'totalworkingyears', 'totalworkingyears_knn', 'worklifebalance', 'worklifebalance_knn'], axis = 1, inplace = True)"
   ]
  },
  {
   "cell_type": "code",
   "execution_count": 83,
   "metadata": {},
   "outputs": [],
   "source": [
    "nuevas_columnas = {'age': 'age', 'attrition': 'attrition', 'businesstravel': 'businesstravel', \n",
    "                    'dailyrate': 'dailyrate', 'department': 'department', \n",
    "                    'distancefromhome': 'distancefromhome', 'education': 'education', \n",
    "                    'education_cat': 'education_cat', 'educationfield': 'educationfield', \n",
    "                    'employeecount': 'employeecount', 'employeenumber': 'employeenumber', \n",
    "                    'environmentsatisfaction_cat': 'environmentsatisfaction_cat', 'gender': 'gender', \n",
    "                    'gender_cat': 'gender_cat', 'jobinvolvement': 'jobinvolvement', \n",
    "                    'jobinvolvement_cat': 'jobinvolvement_cat', 'joblevel': 'joblevel', \n",
    "                    'jobrole': 'jobrole', 'jobsatisfaction': 'jobsatisfaction', \n",
    "                    'maritalstatus': 'maritalstatus', 'monthlyrate': 'monthlyrate', \n",
    "                    'numcompaniesworked': 'numcompaniesworked', 'over18': 'over18', \n",
    "                    'overtime': 'overtime', 'percentsalaryhike': 'percentsalaryhike', \n",
    "                    'performancerating': 'performancerating', \n",
    "                    'relationshipsatisfaction': 'relationshipsatisfaction', \n",
    "                    'relationshipsatisfaction_cat': 'relationshipsatisfaction_cat', \n",
    "                    'standardhours': 'standardhours', 'stockoptionlevel': 'stockoptionlevel', \n",
    "                    'trainingtimeslastyear': 'trainingtimeslastyear', \n",
    "                    'worklifebalance_cat': 'worklifebalance_cat', 'yearsatcompany': 'yearsatcompany', \n",
    "                    'yearsincurrentrole': 'yearsincurrentrole', \n",
    "                    'yearssincelastpromotion': 'yearssincelastpromotion', \n",
    "                    'yearswithcurrmanager': 'yearswithcurrmanager', \n",
    "                    'sameasmonthlyincome': 'sameasmonthlyincome', \n",
    "                    'datebirth': 'datebirth', 'salary': 'salary', \n",
    "                    'roledepartament': 'roledepartament', 'numberchildren': 'numberchildren', \n",
    "                    'remotework': 'remotework', \n",
    "                    'environmentsatisfaction_iterativo': 'environmentsatisfaction', \n",
    "                    'hourlyrate_iterativo': 'hourlyrate', \n",
    "                    'totalworkingyears_iterativo': 'totalworkingyears', \n",
    "                    'worklifebalance_iterativo': 'worklifebalance', \n",
    "                    'monthlyincome_knn': 'monthlyincome'}"
   ]
  },
  {
   "cell_type": "code",
   "execution_count": 84,
   "metadata": {},
   "outputs": [],
   "source": [
    "df_data_copy.rename(columns = nuevas_columnas, inplace = True)"
   ]
  },
  {
   "cell_type": "code",
   "execution_count": 64,
   "metadata": {},
   "outputs": [],
   "source": [
    "#NOTA: Para crear las columnas de iterativo y de knn automáticamente\n",
    "\n",
    "#---------------ITERATIVE-----------------------------------\n",
    "# palabras = ['environmentsatisfaction', 'hourlyrate', 'monthlyincome',\n",
    "#        'totalworkingyears', 'worklifebalance', 'numberchildren']\n",
    "\n",
    "# palabras_iterativas = [palabra + '_iterativo' for palabra in palabras]\n",
    "\n",
    "# print(palabras_iterativas)\n",
    "\n",
    "# #---------------KNN-----------------------------------\n",
    "\n",
    "# palabras2 = ['environmentsatisfaction', 'hourlyrate', 'monthlyincome',\n",
    "#        'totalworkingyears', 'worklifebalance', 'numberchildren']\n",
    "\n",
    "# palabras_iterativas = [palabra + '_knn' for palabra in palabras2]\n",
    "\n",
    "# print(palabras_iterativas)\n",
    "\n",
    "# #---------------TODAS JUNTAS-----------------------------------\n",
    "\n",
    "# pal = ['environmentsatisfaction', 'hourlyrate', 'monthlyincome',\n",
    "#        'totalworkingyears', 'worklifebalance', 'numberchildren']\n",
    "\n",
    "# pal2 = ['environmentsatisfaction_iterativo', 'hourlyrate_iterativo', 'monthlyincome_iterativo', 'totalworkingyears_iterativo', 'worklifebalance_iterativo', 'numberchildren_iterativo']\n",
    "\n",
    "\n",
    "# pal3 = ['environmentsatisfaction_knn', 'hourlyrate_knn', 'monthlyincome_knn', 'totalworkingyears_knn', 'worklifebalance_knn', 'numberchildren_knn']\n",
    "\n",
    "\n",
    "# lista_concatenada = [item for sublist in zip(pal, pal2, pal3) for item in sublist]\n",
    "\n",
    "# print(lista_concatenada)"
   ]
  },
  {
   "cell_type": "markdown",
   "metadata": {},
   "source": [
    "#### 2.7 Eliminar columnas"
   ]
  },
  {
   "cell_type": "code",
   "execution_count": null,
   "metadata": {},
   "outputs": [],
   "source": [
    "-Numberofchildren\n",
    "- over18\n",
    "- salary - sólo un valor para todos\n",
    "- sameasmontlyincome - copia de columna \"monthly income\"\n",
    "- standardhours\n",
    "- employeecount\n",
    "\n",
    "\n",
    "#NOTA\n",
    "Las 2 siguientes las tenemos como categóricas y son numércias pero de todas formas tienen muchos nulos. las borramos???\n",
    "performancerating - ponerla en relación con otras columnas para entenderla mejor\n",
    "years in current role - muchísimos nulos"
   ]
  },
  {
   "cell_type": "code",
   "execution_count": 109,
   "metadata": {},
   "outputs": [
    {
     "data": {
      "text/plain": [
       "195"
      ]
     },
     "execution_count": 109,
     "metadata": {},
     "output_type": "execute_result"
    }
   ],
   "source": [
    "df_data_original[\"PerformanceRating\"].isnull().sum()"
   ]
  },
  {
   "cell_type": "code",
   "execution_count": 112,
   "metadata": {},
   "outputs": [
    {
     "data": {
      "text/plain": [
       "1580"
      ]
     },
     "execution_count": 112,
     "metadata": {},
     "output_type": "execute_result"
    }
   ],
   "source": [
    "df_data_original[\"YearsInCurrentRole\"].isnull().sum()"
   ]
  },
  {
   "cell_type": "code",
   "execution_count": 90,
   "metadata": {},
   "outputs": [
    {
     "data": {
      "text/plain": [
       "1588           80,0\n",
       "1589           80,0\n",
       "1590           80,0\n",
       "1591    desconocido\n",
       "1593           80,0\n",
       "1595    desconocido\n",
       "1596    desconocido\n",
       "1598    desconocido\n",
       "1599    desconocido\n",
       "1600           80,0\n",
       "1601    desconocido\n",
       "1603           80,0\n",
       "1604           80,0\n",
       "1605           80,0\n",
       "1606    desconocido\n",
       "1607    desconocido\n",
       "1608    desconocido\n",
       "1610    desconocido\n",
       "1611    desconocido\n",
       "1613    desconocido\n",
       "Name: standardhours, dtype: object"
      ]
     },
     "execution_count": 90,
     "metadata": {},
     "output_type": "execute_result"
    }
   ],
   "source": [
    "df_data_copy[\"standardhours\"].tail(20)"
   ]
  },
  {
   "cell_type": "code",
   "execution_count": null,
   "metadata": {},
   "outputs": [],
   "source": [
    "columnas_drop = [\"numberchildren\", \"over18\",\"salary\",\"sameasmonthlyincome\",\"standardhours\",\"employeecount\"]"
   ]
  },
  {
   "cell_type": "code",
   "execution_count": null,
   "metadata": {},
   "outputs": [],
   "source": [
    "df_data_copy.drop(columnas_drop, axis=1, inplace=True)"
   ]
  },
  {
   "cell_type": "markdown",
   "metadata": {},
   "source": [
    "#### 2.8 Verificación de clasificaciones categóricas\n",
    "- education (1 menos y 5 más educación)\n",
    "    Parece que es así pero hay personas con un nivel \"1\" de educación que son directores y managers y tb 1 q tienenn altos \"hourlyrates\"\n",
    "\n",
    "- jobinvolvement (1 menos y 4 máximo) -  a priori\n",
    "    No puedo determinarlo, no parece q esté unico a jobsatisfaction\n",
    "\n",
    "- jobsatisfaction (1 mínimo y 4 máximo) - a priori\n",
    "    No puedo determinarlo, no parece q esté unico a jobsatisfaction\n",
    "\n",
    "- joblevel (1 mínimo y 5 máximo) - a priori\n",
    "    Sí, el 1 son técnicos el 5 son managers, directores\n",
    "\n",
    "- relationshiptsatisfaction (1 mínimo y 4 máximo) - a priori\n",
    "    No guarda una relación directa con otras columnas\n",
    "\n",
    "- stockoption (0 sin opciones y 1-3 de pocas acciones a muchas) - a priori\n",
    "No guarda una relación directa con otras columnas. Hay empleados q llevan 0 años trabjando y tienen el nivel 3 de opciones. y tampoco por el tipo de posición hay relación\n",
    "\n",
    "- workinglifebalance (1 mínimo -4 máximo) -a prioru\n",
    "tampoco existe relación directa con otras columnas"
   ]
  },
  {
   "cell_type": "code",
   "execution_count": null,
   "metadata": {},
   "outputs": [],
   "source": [
    "#relationshipsatisfaction"
   ]
  },
  {
   "cell_type": "code",
   "execution_count": null,
   "metadata": {},
   "outputs": [],
   "source": [
    "#df_data_copy[[\"education\",\"educationfield\",\"age\",\"joblevel\",\"jobrole\", \"hourlyrate\",\"monthlyrate\",\"yearsatcompany\"]].sort_values(by = \"hourlyrate\", ascending=False).head(50)"
   ]
  },
  {
   "cell_type": "code",
   "execution_count": null,
   "metadata": {},
   "outputs": [],
   "source": [
    "#df_data_copy[[\"jobinvolvement\",\"environmentsatisfaction\",\"jobsatisfaction\"]].sort_values(by = \"jobinvolvement\", ascending=False).tail(50)"
   ]
  },
  {
   "cell_type": "code",
   "execution_count": null,
   "metadata": {},
   "outputs": [],
   "source": [
    "#df_data_copy[[\"joblevel\",\"jobrole\", \"hourlyrate\",\"monthlyrate\",\"yearsatcompany\",\"education\",\"educationfield\",\"age\"]].sort_values(by = \"joblevel\", ascending=False).head(50)"
   ]
  },
  {
   "cell_type": "code",
   "execution_count": null,
   "metadata": {},
   "outputs": [],
   "source": [
    "#df_data_copy[[\"jobinvolvement\",\"environmentsatisfaction\",\"jobsatisfaction\"]].sort_values(by = \"jobsatisfaction\", ascending=False).tail(50)"
   ]
  },
  {
   "cell_type": "code",
   "execution_count": null,
   "metadata": {},
   "outputs": [],
   "source": [
    "#df_data_copy[[\"jobinvolvement\",\"environmentsatisfaction\",\"jobsatisfaction\", \"relationshipsatisfaction\"]].sort_values(by = \"relationshipsatisfaction\", ascending=False).head(50)"
   ]
  },
  {
   "cell_type": "code",
   "execution_count": null,
   "metadata": {},
   "outputs": [],
   "source": [
    "#df_data_copy[[\"stockoptionlevel\", \"yearsatcompany\",\"totalworkingyears\",\"joblevel\",\"jobrole\"]].sort_values(by = \"stockoptionlevel\", ascending=False).head(50)"
   ]
  },
  {
   "cell_type": "code",
   "execution_count": null,
   "metadata": {},
   "outputs": [],
   "source": [
    "#df_data_copy[[\"worklifebalance\",\"jobinvolvement\",\"environmentsatisfaction\",\"jobsatisfaction\", \"relationshipsatisfaction\"]].sort_values(by = \"worklifebalance\", ascending=False).head(50)"
   ]
  },
  {
   "cell_type": "markdown",
   "metadata": {},
   "source": [
    "#### 2.9 Análisis de registros para mismo empleado (con el mismo employee number)"
   ]
  },
  {
   "cell_type": "code",
   "execution_count": 54,
   "metadata": {},
   "outputs": [
    {
     "data": {
      "text/plain": [
       "491"
      ]
     },
     "execution_count": 54,
     "metadata": {},
     "output_type": "execute_result"
    }
   ],
   "source": [
    "#Empleados q están varias veces en la base de datos con valores modificados (ej. cambio en distancia al trabajo, en trabajo remoto, etc)\n",
    "df_data_copy[\"employeenumber\"].duplicated().sum()"
   ]
  },
  {
   "cell_type": "code",
   "execution_count": 58,
   "metadata": {},
   "outputs": [],
   "source": [
    "df_empleados = df_data_copy[df_data_copy.duplicated(subset = 'employeenumber', keep=False)].sort_values(by = 'employeenumber', ascending=False).head(50)"
   ]
  }
 ],
 "metadata": {
  "kernelspec": {
   "display_name": "base",
   "language": "python",
   "name": "python3"
  },
  "language_info": {
   "codemirror_mode": {
    "name": "ipython",
    "version": 3
   },
   "file_extension": ".py",
   "mimetype": "text/x-python",
   "name": "python",
   "nbconvert_exporter": "python",
   "pygments_lexer": "ipython3",
   "version": "3.9.7"
  }
 },
 "nbformat": 4,
 "nbformat_minor": 2
}
